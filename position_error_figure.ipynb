{
 "cells": [
  {
   "cell_type": "code",
   "execution_count": 1,
   "metadata": {
    "collapsed": false
   },
   "outputs": [
    {
     "name": "stderr",
     "output_type": "stream",
     "text": [
      "/Library/Python/2.7/site-packages/matplotlib/__init__.py:1350: UserWarning:  This call to matplotlib.use() has no effect\n",
      "because the backend has already been chosen;\n",
      "matplotlib.use() must be called *before* pylab, matplotlib.pyplot,\n",
      "or matplotlib.backends is imported for the first time.\n",
      "\n",
      "  warnings.warn(_use_error_msg)\n"
     ]
    }
   ],
   "source": [
    "%matplotlib inline\n",
    "import matplotlib\n",
    "matplotlib.use('Agg')\n",
    "import numpy as np\n",
    "from matplotlib import pyplot as plt\n",
    "from matplotlib import ticker as mtick"
   ]
  },
  {
   "cell_type": "code",
   "execution_count": 10,
   "metadata": {
    "collapsed": false
   },
   "outputs": [
    {
     "data": {
      "image/png": "[encoded data removed]",
      "text/plain": [
       "<matplotlib.figure.Figure at 0x111603a10>"
      ]
     },
     "metadata": {},
     "output_type": "display_data"
    }
   ],
   "source": [
    "mm_per_grid = 16.4851752\n",
    "steps_to_15 = 6000\n",
    "radial_error = 2.00\n",
    "total_mm = 15*mm_per_grid\n",
    "x_coord = (np.dstack((np.arange(0, 15),)*15) - 7)[0]\n",
    "y_coord = ((np.dstack((np.arange(0, 15),)*15) - 7).T)[:, :, 0]\n",
    "angle = np.arctan2(y_coord, x_coord)\n",
    "radii = np.sqrt(np.square(x_coord) + np.square(y_coord))\n",
    "\n",
    "#\n",
    "radial_error_x = np.ones(shape=(15,15))*np.sin(angle)*2 #In mm. \n",
    "radial_error_y = np.ones(shape=(15,15))*np.cos(angle)*2\n",
    "angular_error_x = radial_error_y/2 * radii*0.009*mm_per_grid #in mm\n",
    "angular_error_y = -radial_error_x/2 * radii*0.009*mm_per_grid\n",
    "\n",
    "#Set the center error appropriately.\n",
    "angular_error_x[7, 7] = -radial_error_y[7, 7]\n",
    "radial_error_y[7, 7] = 0#radial_error_x[7, 7]\n",
    "\n",
    "#Only visualize half the data for clarity.\n",
    "radial_error_x = np.copy(radial_error_x[7:, 7:])\n",
    "radial_error_y = np.copy(radial_error_y[7:, 7:])\n",
    "angular_error_x = np.copy(angular_error_x[7:, 7:])\n",
    "angular_error_y = np.copy(angular_error_y[7:, 7:])\n",
    "\n",
    "quiver_scale = 1\n",
    "#0.17 makes them touch \n",
    "value_scales = 0.17 * \\\n",
    "               0.133 # should scale them to be 0.133 the size of\n",
    "                     # a grid spacing\n",
    "fig, ax = plt.subplots(figsize=(6,6))\n",
    "\n",
    "ax.quiver(value_scales*radial_error_x, value_scales*radial_error_y, \n",
    "          headaxislength=0, headlength=0.000001, pivot='mid', width=0.001,\n",
    "          scale=quiver_scale, scale_units='inches')\n",
    "ax.quiver(value_scales*angular_error_x, value_scales*angular_error_y, \n",
    "          headaxislength=0, headlength=0.000001, pivot='mid', width=0.001,\n",
    "          scale=quiver_scale, scale_units='inches')\n",
    "\n",
    "ax.quiver(-value_scales*radial_error_x, -value_scales*radial_error_y, \n",
    "          headaxislength=0, headlength=0.000001, pivot='mid', width=0.001,\n",
    "          scale=quiver_scale, scale_units='inches')\n",
    "ax.quiver(-value_scales*angular_error_x, -value_scales*angular_error_y, \n",
    "          headaxislength=0, headlength=0.000001, pivot='mid', width=0.001,\n",
    "          scale=quiver_scale, scale_units='inches')\n",
    "\n",
    "ax.set_xlabel(\"Sensor x-displacement from center of plate (mm)\")\n",
    "ax.set_ylabel(\"Sensor y-displacement from center of plate (mm)\")\n",
    "\n",
    "ax.xaxis.set_ticks(np.arange((0-10)/mm_per_grid,\n",
    "                             135.1/mm_per_grid,\n",
    "                             10./mm_per_grid))\n",
    "\n",
    "ax.yaxis.set_ticks(np.arange((0-10)/mm_per_grid,\n",
    "                             135.1/mm_per_grid,\n",
    "                             10./mm_per_grid))\n",
    "ax.get_xaxis().set_major_formatter(\n",
    "    mtick.FuncFormatter(\n",
    "    lambda x,i: '%.f' % (x*mm_per_grid)))#-7*mm_per_grid)))\n",
    "ax.get_yaxis().set_major_formatter(\n",
    "    mtick.FuncFormatter(\n",
    "    lambda x,i: '%.f' % (x*mm_per_grid)))#-7*mm_per_grid)))\n",
    "\n",
    "plt.tight_layout()\n",
    "plt.savefig('positional_error_map.pdf')"
   ]
  },
  {
   "cell_type": "code",
   "execution_count": 12,
   "metadata": {
    "collapsed": false
   },
   "outputs": [
    {
     "data": {
      "text/plain": [
       "1.4687541757940059"
      ]
     },
     "execution_count": 12,
     "metadata": {},
     "output_type": "execute_result"
    }
   ],
   "source": [
    "np.sqrt(angular_error_x[7, 7]**2. + angular_error_y[7, 7]**2.)"
   ]
  },
  {
   "cell_type": "code",
   "execution_count": null,
   "metadata": {
    "collapsed": false
   },
   "outputs": [],
   "source": []
  },
  {
   "cell_type": "code",
   "execution_count": null,
   "metadata": {
    "collapsed": false
   },
   "outputs": [],
   "source": []
  },
  {
   "cell_type": "code",
   "execution_count": 4,
   "metadata": {
    "collapsed": false
   },
   "outputs": [
    {
     "data": {
      "text/plain": [
       "1.4000714267493641"
      ]
     },
     "execution_count": 4,
     "metadata": {},
     "output_type": "execute_result"
    }
   ],
   "source": [
    "np.sqrt(2.)*110 * 0.009"
   ]
  },
  {
   "cell_type": "code",
   "execution_count": null,
   "metadata": {
    "collapsed": true
   },
   "outputs": [],
   "source": []
  }
 ],
 "metadata": {
  "anaconda-cloud": {},
  "kernelspec": {
   "display_name": "Python 2",
   "language": "python",
   "name": "python2"
  },
  "language_info": {
   "codemirror_mode": {
    "name": "ipython",
    "version": 2
   },
   "file_extension": ".py",
   "mimetype": "text/x-python",
   "name": "python",
   "nbconvert_exporter": "python",
   "pygments_lexer": "ipython2",
   "version": "2.7.10"
  }
 },
 "nbformat": 4,
 "nbformat_minor": 1
}
