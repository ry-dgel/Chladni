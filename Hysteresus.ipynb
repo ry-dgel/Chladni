{
 "cells": [
  {
   "cell_type": "code",
   "execution_count": 5,
   "metadata": {
    "collapsed": false
   },
   "outputs": [],
   "source": [
    "import matplotlib\n",
    "matplotlib.use('Agg')\n",
    "import matplotlib.pyplot as p\n",
    "import numpy as np\n",
    "import spinmob as s\n",
    "%matplotlib osx"
   ]
  },
  {
   "cell_type": "code",
   "execution_count": 6,
   "metadata": {
    "collapsed": true
   },
   "outputs": [],
   "source": [
    "fore = np.load('data/hist_90_120_0.2.npy')/95.6\n",
    "back = np.load('data/hist_back_90_120_0.2.npy')/95.6\n",
    "norm = np.load('data/hist_norm_90,120,0.2.npy')/95.6\n",
    "freq = np.linspace(90,120,len(fore))\n",
    "freq_back = np.linspace(120,90,len(fore))"
   ]
  },
  {
   "cell_type": "code",
   "execution_count": 7,
   "metadata": {
    "collapsed": true
   },
   "outputs": [],
   "source": [
    "x1=np.linspace(freq[124],freq[123],100)\n",
    "y1=np.linspace(fore[124],fore[123],100)\n",
    "x2=np.linspace(freq[101],freq[100],100)\n",
    "y2=np.linspace(back[len(back)-102],back[len(back)-101],100)\n",
    "\n",
    "ax1=np.linspace(freq[109],freq[112],20)\n",
    "ay1=np.ones(20)*back[len(back)-110]\n",
    "ax2=np.ones(20)*freq[109]\n",
    "ay2=np.linspace(back[len(back)-110]-6.9/95.6,back[len(back)-110],20)\n",
    "\n",
    "ax3=np.linspace(freq[107],freq[110],20)\n",
    "ay3=np.ones(20)*fore[110]\n",
    "ax4=np.ones(20)*freq[110]\n",
    "ay4=np.linspace(fore[110]-6.9/95.6,fore[110],20)"
   ]
  },
  {
   "cell_type": "code",
   "execution_count": 15,
   "metadata": {
    "collapsed": false
   },
   "outputs": [],
   "source": [
    "fig = p.figure()\n",
    "#Curves\n",
    "#p.plot(freq[:124],fore[:124],'b')\n",
    "#p.plot(freq_back[:len(back)-101],back[:len(back)-101],'r')\n",
    "#p.plot(freq[40:125],norm[40:125]*3,'m')\n",
    "yerr1 = 0.001\n",
    "yerr2 = 0.003\n",
    "p.plot(freq[:124],fore[:124],'b')\n",
    "p.errorbar(freq[:124],fore[:124],yerr1,fmt='.b')\n",
    "p.plot(freq[124:],fore[124:],'b')\n",
    "p.errorbar(freq[124:],fore[124:],yerr1,fmt='.b')\n",
    "p.plot(freq_back[len(back)-101:],back[len(back)-101:],'r')\n",
    "p.errorbar(freq_back[len(back)-101:],back[len(back)-101:],yerr1,fmt='.r')\n",
    "p.plot(freq_back[:len(back)-101],back[:len(back)-101],'r')\n",
    "p.errorbar(freq_back[:len(back)-101],back[:len(back)-101],yerr1,fmt='.r')\n",
    "p.plot(freq[40:125],norm[40:125]*3,'-m')\n",
    "p.errorbar(freq[40:125],norm[40:125]*3,yerr2,fmt='.m')\n",
    "\n",
    "#Dashed Lines\n",
    "p.plot(x1,y1,'--', color='0.5')\n",
    "p.plot(x2,y2,'--', color='0.5')\n",
    "\n",
    "#Arrows\n",
    "p.plot(ax1,ay1,'k')\n",
    "p.plot(ax2,ay2,'k')\n",
    "p.plot(ax3,ay3,'k')\n",
    "p.plot(ax4,ay4,'k')\n",
    "\n",
    "ax=fig.axes[0]\n",
    "ax.set_ylabel('Amplitude (V)')\n",
    "ax.set_xlabel('Frequency (Hz)')\n",
    "p.savefig('hysteresis.pdf',dpi=70)\n",
    "p.show()"
   ]
  },
  {
   "cell_type": "code",
   "execution_count": 160,
   "metadata": {
    "collapsed": false
   },
   "outputs": [
    {
     "ename": "ValueError",
     "evalue": "max() arg is an empty sequence",
     "output_type": "error",
     "traceback": [
      "\u001b[0;31m---------------------------------------------------------------------------\u001b[0m",
      "\u001b[0;31mValueError\u001b[0m                                Traceback (most recent call last)",
      "\u001b[0;32m<ipython-input-160-30d0178bfb08>\u001b[0m in \u001b[0;36m<module>\u001b[0;34m()\u001b[0m\n\u001b[0;32m----> 1\u001b[0;31m \u001b[0mp\u001b[0m\u001b[0;34m.\u001b[0m\u001b[0mtight_layout\u001b[0m\u001b[0;34m(\u001b[0m\u001b[0;34m)\u001b[0m\u001b[0;34m\u001b[0m\u001b[0m\n\u001b[0m",
      "\u001b[0;32m//anaconda/lib/python3.5/site-packages/matplotlib/pyplot.py\u001b[0m in \u001b[0;36mtight_layout\u001b[0;34m(pad, h_pad, w_pad, rect)\u001b[0m\n\u001b[1;32m   1385\u001b[0m \u001b[0;34m\u001b[0m\u001b[0m\n\u001b[1;32m   1386\u001b[0m     \u001b[0mfig\u001b[0m \u001b[0;34m=\u001b[0m \u001b[0mgcf\u001b[0m\u001b[0;34m(\u001b[0m\u001b[0;34m)\u001b[0m\u001b[0;34m\u001b[0m\u001b[0m\n\u001b[0;32m-> 1387\u001b[0;31m     \u001b[0mfig\u001b[0m\u001b[0;34m.\u001b[0m\u001b[0mtight_layout\u001b[0m\u001b[0;34m(\u001b[0m\u001b[0mpad\u001b[0m\u001b[0;34m=\u001b[0m\u001b[0mpad\u001b[0m\u001b[0;34m,\u001b[0m \u001b[0mh_pad\u001b[0m\u001b[0;34m=\u001b[0m\u001b[0mh_pad\u001b[0m\u001b[0;34m,\u001b[0m \u001b[0mw_pad\u001b[0m\u001b[0;34m=\u001b[0m\u001b[0mw_pad\u001b[0m\u001b[0;34m,\u001b[0m \u001b[0mrect\u001b[0m\u001b[0;34m=\u001b[0m\u001b[0mrect\u001b[0m\u001b[0;34m)\u001b[0m\u001b[0;34m\u001b[0m\u001b[0m\n\u001b[0m\u001b[1;32m   1388\u001b[0m \u001b[0;34m\u001b[0m\u001b[0m\n\u001b[1;32m   1389\u001b[0m \u001b[0;34m\u001b[0m\u001b[0m\n",
      "\u001b[0;32m//anaconda/lib/python3.5/site-packages/matplotlib/figure.py\u001b[0m in \u001b[0;36mtight_layout\u001b[0;34m(self, renderer, pad, h_pad, w_pad, rect)\u001b[0m\n\u001b[1;32m   1750\u001b[0m                                          \u001b[0mrenderer\u001b[0m\u001b[0;34m,\u001b[0m\u001b[0;34m\u001b[0m\u001b[0m\n\u001b[1;32m   1751\u001b[0m                                          \u001b[0mpad\u001b[0m\u001b[0;34m=\u001b[0m\u001b[0mpad\u001b[0m\u001b[0;34m,\u001b[0m \u001b[0mh_pad\u001b[0m\u001b[0;34m=\u001b[0m\u001b[0mh_pad\u001b[0m\u001b[0;34m,\u001b[0m \u001b[0mw_pad\u001b[0m\u001b[0;34m=\u001b[0m\u001b[0mw_pad\u001b[0m\u001b[0;34m,\u001b[0m\u001b[0;34m\u001b[0m\u001b[0m\n\u001b[0;32m-> 1752\u001b[0;31m                                          rect=rect)\n\u001b[0m\u001b[1;32m   1753\u001b[0m \u001b[0;34m\u001b[0m\u001b[0m\n\u001b[1;32m   1754\u001b[0m         \u001b[0mself\u001b[0m\u001b[0;34m.\u001b[0m\u001b[0msubplots_adjust\u001b[0m\u001b[0;34m(\u001b[0m\u001b[0;34m**\u001b[0m\u001b[0mkwargs\u001b[0m\u001b[0;34m)\u001b[0m\u001b[0;34m\u001b[0m\u001b[0m\n",
      "\u001b[0;32m//anaconda/lib/python3.5/site-packages/matplotlib/tight_layout.py\u001b[0m in \u001b[0;36mget_tight_layout_figure\u001b[0;34m(fig, axes_list, subplotspec_list, renderer, pad, h_pad, w_pad, rect)\u001b[0m\n\u001b[1;32m    320\u001b[0m         \u001b[0msubplots\u001b[0m\u001b[0;34m.\u001b[0m\u001b[0mappend\u001b[0m\u001b[0;34m(\u001b[0m\u001b[0max\u001b[0m\u001b[0;34m)\u001b[0m\u001b[0;34m\u001b[0m\u001b[0m\n\u001b[1;32m    321\u001b[0m \u001b[0;34m\u001b[0m\u001b[0m\n\u001b[0;32m--> 322\u001b[0;31m     \u001b[0mmax_nrows\u001b[0m \u001b[0;34m=\u001b[0m \u001b[0mmax\u001b[0m\u001b[0;34m(\u001b[0m\u001b[0mnrows_list\u001b[0m\u001b[0;34m)\u001b[0m\u001b[0;34m\u001b[0m\u001b[0m\n\u001b[0m\u001b[1;32m    323\u001b[0m     \u001b[0mmax_ncols\u001b[0m \u001b[0;34m=\u001b[0m \u001b[0mmax\u001b[0m\u001b[0;34m(\u001b[0m\u001b[0mncols_list\u001b[0m\u001b[0;34m)\u001b[0m\u001b[0;34m\u001b[0m\u001b[0m\n\u001b[1;32m    324\u001b[0m \u001b[0;34m\u001b[0m\u001b[0m\n",
      "\u001b[0;31mValueError\u001b[0m: max() arg is an empty sequence"
     ]
    }
   ],
   "source": [
    "p.tight_layout()"
   ]
  },
  {
   "cell_type": "code",
   "execution_count": 66,
   "metadata": {
    "collapsed": false
   },
   "outputs": [
    {
     "data": {
      "text/plain": [
       "172.43000000000001"
      ]
     },
     "execution_count": 66,
     "metadata": {},
     "output_type": "execute_result"
    }
   ],
   "source": [
    "back[len(back)-101]"
   ]
  },
  {
   "cell_type": "code",
   "execution_count": 137,
   "metadata": {
    "collapsed": false
   },
   "outputs": [],
   "source": []
  },
  {
   "cell_type": "code",
   "execution_count": 115,
   "metadata": {
    "collapsed": false
   },
   "outputs": [
    {
     "data": {
      "text/plain": [
       "array([ 111.8,  111.8,  111.8,  111.8,  111.8,  111.8,  111.8,  111.8,\n",
       "        111.8,  111.8,  111.8,  111.8,  111.8,  111.8,  111.8,  111.8,\n",
       "        111.8,  111.8,  111.8,  111.8])"
      ]
     },
     "execution_count": 115,
     "metadata": {},
     "output_type": "execute_result"
    }
   ],
   "source": [
    "ax2"
   ]
  },
  {
   "cell_type": "code",
   "execution_count": 116,
   "metadata": {
    "collapsed": false
   },
   "outputs": [
    {
     "data": {
      "text/plain": [
       "array([ 67.83      ,  67.87210526,  67.91421053,  67.95631579,\n",
       "        67.99842105,  68.04052632,  68.08263158,  68.12473684,\n",
       "        68.16684211,  68.20894737,  68.25105263,  68.29315789,\n",
       "        68.33526316,  68.37736842,  68.41947368,  68.46157895,\n",
       "        68.50368421,  68.54578947,  68.58789474,  68.63      ])"
      ]
     },
     "execution_count": 116,
     "metadata": {},
     "output_type": "execute_result"
    }
   ],
   "source": [
    "ay2"
   ]
  },
  {
   "cell_type": "code",
   "execution_count": null,
   "metadata": {
    "collapsed": true
   },
   "outputs": [],
   "source": []
  }
 ],
 "metadata": {
  "anaconda-cloud": {},
  "kernelspec": {
   "display_name": "Python [default]",
   "language": "python",
   "name": "python3"
  },
  "language_info": {
   "codemirror_mode": {
    "name": "ipython",
    "version": 3
   },
   "file_extension": ".py",
   "mimetype": "text/x-python",
   "name": "python",
   "nbconvert_exporter": "python",
   "pygments_lexer": "ipython3",
   "version": "3.5.2"
  }
 },
 "nbformat": 4,
 "nbformat_minor": 1
}
