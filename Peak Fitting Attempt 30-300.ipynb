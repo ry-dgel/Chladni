{
 "cells": [
  {
   "cell_type": "code",
   "execution_count": 188,
   "metadata": {
    "collapsed": false
   },
   "outputs": [],
   "source": [
    "import matplotlib\n",
    "matplotlib.use('Agg')\n",
    "import matplotlib.pyplot as p\n",
    "import spinmob as s\n",
    "import numpy as np\n",
    "%matplotlib osx"
   ]
  },
  {
   "cell_type": "code",
   "execution_count": 189,
   "metadata": {
    "collapsed": false
   },
   "outputs": [],
   "source": [
    "\"\"\"def lorentz(x, x0,g0, x1,g1, x2,g2, x3,g3, x4,g4, x5,g5, x6,g6, x7,g7, x8,g8):\n",
    "    y=0\n",
    "    g0_sqr = np.square(g0)\n",
    "    denom = np.pi * g0 * ((x-x0)**2 + g0_sqr)\n",
    "    y += g0_sqr/denom\n",
    "    \n",
    "    g1_sqr = np.square(g1)\n",
    "    denom = np.pi * g1 * ((x-x1)**2 + g1_sqr)\n",
    "    y += g1_sqr/denom\n",
    "    \n",
    "    g2_sqr = np.square(g2)\n",
    "    denom = np.pi * g2 * ((x-x2)**2 + g2_sqr)\n",
    "    y += g2_sqr/denom\n",
    "    \n",
    "    g3_sqr = np.square(g3)\n",
    "    denom = np.pi * g3 * ((x-x3)**2 + g3_sqr)\n",
    "    y += g3_sqr/denom\n",
    "    \n",
    "    g4_sqr = np.square(g4)\n",
    "    denom = np.pi * g4 * ((x-x4)**2 + g4_sqr)\n",
    "    y += g4_sqr/denom\n",
    "    \n",
    "    g5_sqr = np.square(g5)\n",
    "    denom = np.pi * g5 * ((x-x5)**2 + g5_sqr)\n",
    "    y += g5_sqr/denom\n",
    "    \n",
    "    g6_sqr = np.square(g6)\n",
    "    denom = np.pi * g6 * ((x-x6)**2 + g6_sqr)\n",
    "    y += g6_sqr/denom\n",
    "    \n",
    "    g7_sqr = np.square(g7)\n",
    "    denom = np.pi * g7 * ((x-x7)**2 + g7_sqr)\n",
    "    y += g7_sqr/denom\n",
    "    \n",
    "    g8_sqr = np.square(g8)\n",
    "    denom = np.pi * g8 * ((x-x8)**2 + g8_sqr)\n",
    "    y += g8_sqr/denom\n",
    "    return y\"\"\"\n",
    "\n",
    "def lorentz(x, x0,g0, x1,g1, x2,g2, x3,g3, x4,g4, x5,g5):\n",
    "    y=0\n",
    "    g0_sqr = np.square(g0)\n",
    "    denom = np.pi * g0 * ((x-x0)**2 + g0_sqr)\n",
    "    y += g0_sqr/denom\n",
    "    \n",
    "    g1_sqr = np.square(g1)\n",
    "    denom = np.pi * g1 * ((x-x1)**2 + g1_sqr)\n",
    "    y += g1_sqr/denom\n",
    "    \n",
    "    g2_sqr = np.square(g2)\n",
    "    denom = np.pi * g2 * ((x-x2)**2 + g2_sqr)\n",
    "    y += g2_sqr/denom\n",
    "    \n",
    "    g3_sqr = np.square(g3)\n",
    "    denom = np.pi * g3 * ((x-x3)**2 + g3_sqr)\n",
    "    y += g3_sqr/denom\n",
    "    \n",
    "    g4_sqr = np.square(g4)\n",
    "    denom = np.pi * g4 * ((x-x4)**2 + g4_sqr)\n",
    "    y += g4_sqr/denom\n",
    "    \n",
    "    g5_sqr = np.square(g5)\n",
    "    denom = np.pi * g5 * ((x-x5)**2 + g5_sqr)\n",
    "    y += g5_sqr/denom\n",
    "    \n",
    "    return y"
   ]
  },
  {
   "cell_type": "code",
   "execution_count": 190,
   "metadata": {
    "collapsed": false
   },
   "outputs": [],
   "source": [
    "y = np.load('data/30_300_0.5.npy')/95.6\n",
    "x = np.linspace(30,300,len(y))[128:200]\n",
    "y = y[128:200]"
   ]
  },
  {
   "cell_type": "code",
   "execution_count": 191,
   "metadata": {
    "collapsed": false
   },
   "outputs": [
    {
     "data": {
      "text/plain": [
       "(array([2]),)"
      ]
     },
     "execution_count": 191,
     "metadata": {},
     "output_type": "execute_result"
    }
   ],
   "source": [
    "np.where(x==95)"
   ]
  },
  {
   "cell_type": "code",
   "execution_count": 208,
   "metadata": {
    "collapsed": false,
    "scrolled": true
   },
   "outputs": [
    {
     "data": {
      "text/plain": [
       "\n",
       "SETTINGS\n",
       "  autoplot        False\n",
       "  coarsen         [1]\n",
       "  first_figure    0\n",
       "  fpoints         [1000]\n",
       "  plot_bg         [True]\n",
       "  plot_ey         [True]\n",
       "  plot_fit        [True]\n",
       "  plot_guess      [False]\n",
       "  plot_guess_zoom [False]\n",
       "  scale_eydata    [1.0]\n",
       "  silent          [False]\n",
       "  style_bg        [{'marker': '', 'color': 'k', 'ls': '-'}]\n",
       "  style_data      [{'marker': '+', 'color': 'b', 'ls': ''}]\n",
       "  style_fit       [{'marker': '', 'color': 'r', 'ls': '-'}]\n",
       "  style_guess     [{'marker': '', 'color': '0.25', 'ls': '-'}]\n",
       "  subtract_bg     [False]\n",
       "  xlabel          [None]\n",
       "  xmax            [129.5]\n",
       "  xmin            [94.0]\n",
       "  xscale          ['linear']\n",
       "  ylabel          [None]\n",
       "  ymax            [0.37740585774058577]\n",
       "  ymin            [0.028451882845188289]\n",
       "  yscale          ['linear']\n",
       "\n",
       "CONSTANTS\n",
       "\n",
       "GUESS (reduced chi squared = [ 4320.])\n",
       "  x0         = 106.0\n",
       "  g0         = 4.0\n",
       "  x1         = 103.0\n",
       "  g1         = 4.0\n",
       "  x2         = 102.0\n",
       "  g2         = 4.0\n",
       "  x3         = 107.0\n",
       "  g3         = 4.0\n",
       "  x4         = 108.0\n",
       "  g4         = 4.0\n",
       "  x5         = 110.0\n",
       "  g5         = 4.0\n",
       "\n",
       "FIT RESULTS (reduced chi squared = [ 2.93])\n",
       "  x0         = 105.19 +/- 0.28\n",
       "  g0         = 5.26 +/- 0.24\n",
       "  x1         = 109.73 +/- 0.38\n",
       "  g1         = 8.51 +/- 0.32\n",
       "  x2         = 122.54 +/- 0.61\n",
       "  g2         = 16.85 +/- 0.35\n",
       "  x3         = 105.72 +/- 0.02\n",
       "  g3         = 1.732 +/- 0.02\n",
       "  x4         = 106.59 +/- 0.12\n",
       "  g4         = 3.2 +/- 0.11\n",
       "  x5         = 93.52 +/- 0.17\n",
       "  g5         = 0.0081 +/- 0.0059"
      ]
     },
     "execution_count": 208,
     "metadata": {},
     "output_type": "execute_result"
    }
   ],
   "source": [
    "#fitter = s.data.fitter(f = lorentz, \n",
    "#                       p = 'x0=106, g0=4, x1=103, g1=4, x2=102, g2=4, x3=107, g3=4, x4=108, g4=4, x5=110, g5=4, x6=85, g6=4, x7=79, g7=1, x8=86, g8=9', plot_guess=False, autoplot=False)\n",
    "fitter = s.data.fitter(f = lorentz, \n",
    "                       p = 'x0=106, g0=4, x1=103, g1=4, x2=102, g2=4, x3=107, g3=4, x4=108, g4=4, x5=110, g5=4', plot_guess=False, autoplot=False)\n",
    "fitter.set_data(xdata=x, ydata=y, eydata=0.001)\n",
    "fitter.fit()\n",
    "fitter.plot()"
   ]
  },
  {
   "cell_type": "code",
   "execution_count": 209,
   "metadata": {
    "collapsed": false
   },
   "outputs": [],
   "source": [
    "fig=p.gcf()\n",
    "a0 = fig.axes[0]\n",
    "a1 = fig.axes[1]\n",
    "a0.set_title('')\n",
    "a1.set_xlabel('Frequency (f)')\n",
    "a1.set_ylabel('Amplitude (V)')\n",
    "p.savefig('fit_resonance.pdf',dpi=70,bbox_inches='tight')"
   ]
  },
  {
   "cell_type": "code",
   "execution_count": 165,
   "metadata": {
    "collapsed": false
   },
   "outputs": [
    {
     "data": {
      "image/png": "[encoded data removed]",
      "text/plain": [
       "<matplotlib.figure.Figure at 0x118fe7828>"
      ]
     },
     "metadata": {},
     "output_type": "display_data"
    }
   ],
   "source": [
    "def one_lorentz(x, x0, g0):\n",
    "    g0_sqr = np.square(g0)\n",
    "    denom = np.pi * g0 * ((x-x0)**2 + g0_sqr)\n",
    "    return g0_sqr/denom\n",
    "\n",
    "p.figure()\n",
    "xone = np.linspace(0,200,1000)\n",
    "onelore = one_lorentz(xone,95.5,-9.7)\n",
    "p.plot(xone,onelore)\n",
    "p.show()"
   ]
  },
  {
   "cell_type": "code",
   "execution_count": 22,
   "metadata": {
    "collapsed": true
   },
   "outputs": [],
   "source": [
    "from scipy.special import wofz\n",
    "def V(x, x0 ,alpha, gamma):\n",
    "    \"\"\"\n",
    "    Return the Voigt line shape at x with Lorentzian component HWHM gamma\n",
    "    and Gaussian component HWHM alpha.\n",
    "\n",
    "    \"\"\"\n",
    "    sigma = alpha / np.sqrt(2 * np.log(2))\n",
    "\n",
    "    return np.real(wofz(((x-x0) + 1j*gamma)/sigma/np.sqrt(2))) / sigma\\\n",
    "                                                           /np.sqrt(2*np.pi) + 0.025"
   ]
  },
  {
   "cell_type": "code",
   "execution_count": 185,
   "metadata": {
    "collapsed": false
   },
   "outputs": [
    {
     "ename": "IndexError",
     "evalue": "list index out of range",
     "output_type": "error",
     "traceback": [
      "\u001b[0;31m---------------------------------------------------------------------------\u001b[0m",
      "\u001b[0;31mIndexError\u001b[0m                                Traceback (most recent call last)",
      "\u001b[0;32m<ipython-input-185-cbbc8972ca3d>\u001b[0m in \u001b[0;36m<module>\u001b[0;34m()\u001b[0m\n\u001b[0;32m----> 1\u001b[0;31m \u001b[0max\u001b[0m \u001b[0;34m=\u001b[0m \u001b[0mfig\u001b[0m\u001b[0;34m.\u001b[0m\u001b[0maxes\u001b[0m\u001b[0;34m[\u001b[0m\u001b[0;36m0\u001b[0m\u001b[0;34m]\u001b[0m\u001b[0;34m\u001b[0m\u001b[0m\n\u001b[0m\u001b[1;32m      2\u001b[0m \u001b[0max\u001b[0m\u001b[0;34m.\u001b[0m\u001b[0mset_title\u001b[0m\u001b[0;34m(\u001b[0m\u001b[0;34m''\u001b[0m\u001b[0;34m)\u001b[0m\u001b[0;34m\u001b[0m\u001b[0m\n\u001b[1;32m      3\u001b[0m \u001b[0mp\u001b[0m\u001b[0;34m.\u001b[0m\u001b[0mshow\u001b[0m\u001b[0;34m(\u001b[0m\u001b[0;34m)\u001b[0m\u001b[0;34m\u001b[0m\u001b[0m\n",
      "\u001b[0;31mIndexError\u001b[0m: list index out of range"
     ]
    }
   ],
   "source": [
    "ax = fig.axes[0]\n",
    "ax.set_title('')\n",
    "p.show()"
   ]
  },
  {
   "cell_type": "code",
   "execution_count": null,
   "metadata": {
    "collapsed": true
   },
   "outputs": [],
   "source": []
  }
 ],
 "metadata": {
  "anaconda-cloud": {},
  "kernelspec": {
   "display_name": "Python [default]",
   "language": "python",
   "name": "python3"
  },
  "language_info": {
   "codemirror_mode": {
    "name": "ipython",
    "version": 3
   },
   "file_extension": ".py",
   "mimetype": "text/x-python",
   "name": "python",
   "nbconvert_exporter": "python",
   "pygments_lexer": "ipython3",
   "version": "3.5.2"
  }
 },
 "nbformat": 4,
 "nbformat_minor": 1
}
