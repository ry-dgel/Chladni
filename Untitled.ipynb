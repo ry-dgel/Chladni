{
 "cells": [
  {
   "cell_type": "code",
   "execution_count": 2,
   "metadata": {
    "collapsed": true
   },
   "outputs": [],
   "source": [
    "import matplotlib\n",
    "matplotlib.use('Agg')\n",
    "import matplotlib.pyplot as p\n",
    "import spinmob as s\n",
    "import numpy as np\n",
    "%matplotlib osx"
   ]
  },
  {
   "cell_type": "code",
   "execution_count": 37,
   "metadata": {
    "collapsed": false
   },
   "outputs": [],
   "source": [
    "freq = np.linspace(300,800,len(amps))\n",
    "\n",
    "amps = np.load('data/300_800_0.5.npy')/95.6\n",
    "freq = np.linspace(300,800,len(amps))\n",
    "amps45 = np.load('data/300_800_0.5_45.npy')/95.6 + 0.05\n",
    "amps90 = np.load('data/300_800_0.5_90.npy')/95.6 + 0.1\n",
    "\n",
    "phase = np.load('data/300_800_0.5_phase.npy')\n",
    "phase45 = np.load('data/300_800_0.5_45_phase.npy') + 2\n",
    "phase90 = np.load('data/300_800_0.5_90_phase.npy') + 4\n",
    "\n",
    "fig=p.figure()\n",
    "fig.add_subplot(212)\n",
    "ax1=fig.axes[0]\n",
    "ax1.set_xlabel('Frequency (f)')\n",
    "ax1.set_ylabel('Amplitude (V)')\n",
    "p.plot(freq,amps)\n",
    "p.plot(freq,amps45)\n",
    "p.plot(freq,amps90)\n",
    "ax2=p.subplot(211,sharex=ax1)\n",
    "p.setp(ax2.get_xticklabels(), visible=False)\n",
    "ax2.set_ylabel('Phase (rad)')\n",
    "p.plot(freq,phase)\n",
    "p.plot(freq,phase45)\n",
    "p.plot(freq,phase90)\n",
    "p.savefig('300-800.pdf',dpi=70,bbox_inches='tight')"
   ]
  },
  {
   "cell_type": "code",
   "execution_count": 17,
   "metadata": {
    "collapsed": false
   },
   "outputs": [
    {
     "data": {
      "text/plain": [
       "<matplotlib.axes._subplots.AxesSubplot at 0x11c39cf28>"
      ]
     },
     "execution_count": 17,
     "metadata": {},
     "output_type": "execute_result"
    }
   ],
   "source": [
    "fig.axes[1]"
   ]
  },
  {
   "cell_type": "code",
   "execution_count": 31,
   "metadata": {
    "collapsed": false
   },
   "outputs": [
    {
     "data": {
      "text/plain": [
       "(array([800]),)"
      ]
     },
     "execution_count": 31,
     "metadata": {},
     "output_type": "execute_result"
    }
   ],
   "source": [
    "np.where(freq==1200)"
   ]
  },
  {
   "cell_type": "code",
   "execution_count": null,
   "metadata": {
    "collapsed": true
   },
   "outputs": [],
   "source": []
  }
 ],
 "metadata": {
  "anaconda-cloud": {},
  "kernelspec": {
   "display_name": "Python [default]",
   "language": "python",
   "name": "python3"
  },
  "language_info": {
   "codemirror_mode": {
    "name": "ipython",
    "version": 3
   },
   "file_extension": ".py",
   "mimetype": "text/x-python",
   "name": "python",
   "nbconvert_exporter": "python",
   "pygments_lexer": "ipython3",
   "version": "3.5.2"
  }
 },
 "nbformat": 4,
 "nbformat_minor": 1
}
