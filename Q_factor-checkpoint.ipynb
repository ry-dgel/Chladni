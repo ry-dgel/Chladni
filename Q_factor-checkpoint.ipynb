{
 "cells": [
  {
   "cell_type": "code",
   "execution_count": 2,
   "metadata": {
    "collapsed": false
   },
   "outputs": [],
   "source": [
    "import matplotlib\n",
    "matplotlib.use('Agg')\n",
    "import matplotlib.pyplot as p\n",
    "import spinmob as s\n",
    "import numpy as np\n",
    "%matplotlib osx"
   ]
  },
  {
   "cell_type": "code",
   "execution_count": null,
   "metadata": {
    "collapsed": true
   },
   "outputs": [],
   "source": []
  },
  {
   "cell_type": "code",
   "execution_count": 4,
   "metadata": {
    "collapsed": false
   },
   "outputs": [],
   "source": [
    "qdata = np.load('data/Q_factor.npy')/95.6"
   ]
  },
  {
   "cell_type": "code",
   "execution_count": 5,
   "metadata": {
    "collapsed": false
   },
   "outputs": [
    {
     "data": {
      "text/plain": [
       "9.7907949790794984"
      ]
     },
     "execution_count": 5,
     "metadata": {},
     "output_type": "execute_result"
    }
   ],
   "source": [
    "qdata[5]"
   ]
  },
  {
   "cell_type": "code",
   "execution_count": 6,
   "metadata": {
    "collapsed": false
   },
   "outputs": [],
   "source": [
    "time = np.linspace(0,len(qdata)/48000,len(qdata))"
   ]
  },
  {
   "cell_type": "code",
   "execution_count": 7,
   "metadata": {
    "collapsed": false,
    "scrolled": true
   },
   "outputs": [
    {
     "data": {
      "text/plain": [
       "[<matplotlib.lines.Line2D at 0x117fa0d68>]"
      ]
     },
     "execution_count": 7,
     "metadata": {},
     "output_type": "execute_result"
    }
   ],
   "source": [
    "p.plot(time,qdata)"
   ]
  },
  {
   "cell_type": "code",
   "execution_count": 8,
   "metadata": {
    "collapsed": false,
    "scrolled": true
   },
   "outputs": [
    {
     "data": {
      "text/plain": [
       "\n",
       "SETTINGS\n",
       "  autoplot        True\n",
       "  coarsen         [1]\n",
       "  first_figure    0\n",
       "  fpoints         [1000]\n",
       "  plot_bg         [True]\n",
       "  plot_ey         [True]\n",
       "  plot_fit        [True]\n",
       "  plot_guess      [False]\n",
       "  plot_guess_zoom [False]\n",
       "  scale_eydata    [1.0]\n",
       "  silent          [False]\n",
       "  style_bg        [{'color': 'k', 'marker': '', 'ls': '-'}]\n",
       "  style_data      [{'color': 'b', 'marker': '+', 'ls': ''}]\n",
       "  style_fit       [{'color': 'r', 'marker': '', 'ls': '-'}]\n",
       "  style_guess     [{'color': '0.25', 'marker': '', 'ls': '-'}]\n",
       "  subtract_bg     [False]\n",
       "  xlabel          ['Time (s)']\n",
       "  xmax            [0.40000000000000002]\n",
       "  xmin            [0.1]\n",
       "  xscale          ['linear']\n",
       "  ylabel          ['Sensor Output (V)']\n",
       "  ymax            [11.548117154811717]\n",
       "  ymin            [9.7698744769874484]\n",
       "  yscale          ['linear']\n",
       "\n",
       "CONSTANTS\n",
       "\n",
       "GUESS (reduced chi squared = [ 2660.])\n",
       "  a1         = 2.0\n",
       "  a2         = 0.5\n",
       "  g1         = 20.0\n",
       "  g2         = 20.0\n",
       "  w1         = 666.0\n",
       "  w2         = 670.0\n",
       "  p1         = 1.9\n",
       "  p2         = 0.0\n",
       "  o          = 10.25\n",
       "\n",
       "FIT RESULTS (reduced chi squared = [ 0.526])\n",
       "  a1         = -0.6841 +/- 0.0028\n",
       "  a2         = 0.016 +/- 0.0012\n",
       "  g1         = 19.608 +/- 0.049\n",
       "  g2         = 10.85 +/- 0.74\n",
       "  w1         = 665.344 +/- 0.025\n",
       "  w2         = 607.13 +/- 0.37\n",
       "  p1         = 6.024 +/- 0.0041\n",
       "  p2         = 11.872 +/- 0.074\n",
       "  o          = 10.723918 +/- 8.3e-05"
      ]
     },
     "execution_count": 8,
     "metadata": {},
     "output_type": "execute_result"
    }
   ],
   "source": [
    "fitter = s.data.fitter(f='exp(-1*g1*x/2)*a1 * cos(x*w1 + p1)+ exp(-1*g2*x/2)* a2 * cos(x*w2 + p2) + o',\n",
    "                       p='a1=2, a2 = 0.5, g1=20, g2=20, w1=666, w2 = 670, p1=1.9, p2 = 0, o=10.25')\n",
    "#fitter = s.data.fitter(f='exp(-1*x/t1)*a1 * cos(x*w1 + p1) + o',\n",
    "#                      p='a1=2, t1=0.1, w1=666, p1=1.9, o=10.25')\n",
    "fitter.set_data(xdata=time, ydata=qdata, eydata=0.01)\n",
    "fitter(xmin = 0.1, coarsen = 0, plot_guess=False)\n",
    "fitter.fit()\n",
    "fitter(xlabel = 'Time (s)', ylabel = 'Sensor Output (V)', plot_ey = True)"
   ]
  },
  {
   "cell_type": "code",
   "execution_count": 107,
   "metadata": {
    "collapsed": false
   },
   "outputs": [],
   "source": [
    "fig = p.gcf()"
   ]
  },
  {
   "cell_type": "code",
   "execution_count": 108,
   "metadata": {
    "collapsed": true
   },
   "outputs": [],
   "source": [
    "fig.show()"
   ]
  },
  {
   "cell_type": "code",
   "execution_count": 113,
   "metadata": {
    "collapsed": false
   },
   "outputs": [
    {
     "data": {
      "text/plain": [
       "<matplotlib.text.Text at 0x12b5bfbe0>"
      ]
     },
     "execution_count": 113,
     "metadata": {},
     "output_type": "execute_result"
    }
   ],
   "source": [
    "a = fig.axes[0]\n",
    "p.axes(a)\n",
    "a.set_title(\"\")"
   ]
  },
  {
   "cell_type": "code",
   "execution_count": 114,
   "metadata": {
    "collapsed": true
   },
   "outputs": [],
   "source": [
    "def plot(self, **kwargs):\n",
    "        \"\"\"\n",
    "        This will plot the data (with error) for inspection.\n",
    "        kwargs will update the settings\n",
    "        \"\"\"\n",
    "        if self._set_xdata is None or self._set_ydata is None:\n",
    "            return self._error(\"No data. Please use set_data() prior to plotting.\")\n",
    "\n",
    "        # get the data\n",
    "        xdata, ydata, eydata = self.get_data()\n",
    "\n",
    "        # update settings\n",
    "        for k in kwargs: self[k] = kwargs[k]\n",
    "\n",
    "        # update the massaged data\n",
    "        self._massage_data()\n",
    "\n",
    "\n",
    "        # get the residuals\n",
    "        r = None\n",
    "        if not self.results is None: r = self.studentized_residuals(self.results[0])\n",
    "\n",
    "        # otherwise get the guess residuals\n",
    "        else:                        r = self.studentized_residuals(self._pguess)\n",
    "\n",
    "        # make a new plot for each data set\n",
    "        for n in range(len(xdata)):\n",
    "\n",
    "            # get the next figure\n",
    "            fig = p.figure(self['first_figure']+n)\n",
    "\n",
    "            # turn off interactive mode\n",
    "            p.ioff()\n",
    "\n",
    "            fig.clear()\n",
    "\n",
    "            # set up two axes. One for data and one for residuals.\n",
    "            a1 = p.subplot(211)            # Residuals\n",
    "            a2 = p.subplot(212, sharex=a1) # Data\n",
    "            a1.set_position([0.15, 0.72, 0.75, 0.15])\n",
    "            a2.set_position([0.15, 0.10, 0.75, 0.60])\n",
    "\n",
    "            # set the scales\n",
    "            a1.set_xscale(self['xscale'][n])\n",
    "            a2.set_xscale(self['xscale'][n])\n",
    "            a2.set_yscale(self['yscale'][n])\n",
    "\n",
    "            x = self._get_xdata_for_plotting(n=n)\n",
    "\n",
    "            # get the thing to subtract from ydata\n",
    "            if self['subtract_bg'][n] and not self.bg[n] is None:\n",
    "\n",
    "                # if we have a fit, use that.\n",
    "                if self.results:\n",
    "                    dy_data = self._evaluate_bg(n, self._xdata_massaged[n], self.results[0])\n",
    "                    dy_func = self._evaluate_bg(n, x,                       self.results[0])\n",
    "\n",
    "                # otherwise, use the pguess background\n",
    "                else:\n",
    "                    dy_data = self._evaluate_bg(n, self._xdata_massaged[n], self._pguess)\n",
    "                    dy_func = self._evaluate_bg(n, x,                       self._pguess)\n",
    "            else:\n",
    "                dy_data = 0*self._xdata_massaged[n]\n",
    "                dy_func = 0*x\n",
    "\n",
    "\n",
    "            # add the data to the plot\n",
    "            if self['plot_ey'][n]:\n",
    "                a2.errorbar(self._xdata_massaged[n],\n",
    "                            self._ydata_massaged[n]-dy_data,\n",
    "                            self._eydata_massaged[n],\n",
    "                            **self['style_data'][n])\n",
    "            else:\n",
    "                a2.plot(    self._xdata_massaged[n],\n",
    "                            self._ydata_massaged[n]-dy_data,\n",
    "                            **self['style_data'][n])\n",
    "\n",
    "            # set the plot range according to just the data\n",
    "            s.tweaks.auto_zoom(axes=a2, draw=False)\n",
    "            a2.set_autoscale_on(False)\n",
    "\n",
    "            # add the pguess curves\n",
    "            y_guess = self._evaluate_f(n,x,self._pguess)-dy_func\n",
    "            if self['plot_guess'][n]:\n",
    "\n",
    "                # plot the pguess background curve\n",
    "                if self['plot_bg'][n] and self.bg[n] is not None:\n",
    "                    a2.plot(x, self._evaluate_bg(n,x,self._pguess)-dy_func, **self['style_guess'][n])\n",
    "\n",
    "                # plot the pguess main curve\n",
    "                a2.plot(x, y_guess, **self['style_guess'][n])\n",
    "\n",
    "            # add the fit curves (if we have a fit)\n",
    "            if self['plot_fit'] and self.results:\n",
    "\n",
    "                # plot the background curve\n",
    "                if self['plot_bg'][n] and self.bg[n] is not None:\n",
    "                    a2.plot(x, self._evaluate_bg(n,x,self.results[0])-dy_func, **self['style_fit'][n])\n",
    "\n",
    "                # plot the pfit main curve\n",
    "                a2.plot(x, self._evaluate_f(n,x,self.results[0])-dy_func, **self['style_fit'][n])\n",
    "\n",
    "            a2.set_autoscale_on(True)\n",
    "\n",
    "            # plot the residuals\n",
    "            if self.results is not None:\n",
    "                a1.errorbar(self._xdata_massaged[n][::50], r[n][::50], np.ones(len(r[n][::50])),             **self['style_data'][n])\n",
    "                a1.plot([min(self._xdata_massaged[n][::50]),max(self._xdata_massaged[n][::50])],[0,0], **self['style_fit'][n])\n",
    "                s.tweaks.auto_zoom(axes=a1, draw=False)\n",
    "\n",
    "            # otherwise plot the guess residuals\n",
    "            elif self['plot_guess'][n]:\n",
    "                a1.errorbar(self._xdata_massaged[n], r[n], np.ones(len(r[n])),             **self['style_data'][n])\n",
    "                a1.plot([min(self._xdata_massaged[n]),max(self._xdata_massaged[n])],[0,0], **self['style_guess'][n])\n",
    "                s.tweaks.auto_zoom(axes=a1, draw=False)\n",
    "\n",
    "                \n",
    "            # Tidy up\n",
    "            yticklabels = a1.get_yticklabels()\n",
    "            for m in range(2,len(yticklabels)-2): yticklabels[m].set_visible(False)\n",
    "            for m in a1.get_xticklabels(): m.set_visible(False)\n",
    "            \n",
    "            # Add labels to the axes\n",
    "            if self['xlabel'][n] is None: p.xlabel('xdata['+str(n)+']')\n",
    "            else:                         p.xlabel(self['xlabel'][n])\n",
    "            if self['ylabel'][n] is None:\n",
    "                ylabel='ydata['+str(n)+']'\n",
    "                if self['subtract_bg'][n] and self.bg[n] is not None:\n",
    "                    ylabel=ylabel+' - bg['+str(n)+']'\n",
    "                p.ylabel(ylabel)\n",
    "            else:                         p.ylabel(self['ylabel'][n])\n",
    "            a1.set_ylabel('Studentized\\nResiduals')\n",
    "\n",
    "            # Assemble the title\n",
    "            wrap = 80\n",
    "            indent = '      '\n",
    "            t = _textwrap.fill('Function ('+str(n)+'/'+str(len(ydata)-1)+'): y = '+self._fnames[n], wrap, subsequent_indent=indent)\n",
    "\n",
    "            if len(self._cnames):\n",
    "                t1 = \"Constants: \"\n",
    "                for i in range(len(self._cnames)):\n",
    "                    t1 = t1 + self._cnames[i] + \"={:G}, \".format(self._constants[i])\n",
    "                t = t + '\\n' + _textwrap.fill(t1, wrap, subsequent_indent=indent)\n",
    "\n",
    "            if self.results and not self.results[1] is None:\n",
    "                t1 = \"Fit: \"\n",
    "                for i in range(len(self._pnames)):\n",
    "                    t1 = t1 + self._pnames[i] + \"={:s}, \".format(self._format_value_error(self.results[0][i], np.sqrt(self.results[1][i][i]), '$\\pm$'))\n",
    "                t = t + '\\n' + _textwrap.fill(t1, wrap, subsequent_indent=indent)\n",
    "\n",
    "            elif self.results:\n",
    "                t1 = \"Fit did not converge: \"\n",
    "                for i in range(len(self._pnames)):\n",
    "                    t1 = t1 + self._pnames[i] + \"={:8G}$, \"\n",
    "                t = t + '\\n' + _textwrap.fill(t1, wrap, subsequent_indent=indent)\n",
    "\n",
    "            a1.set_title(t, fontsize=10, ha='left', position=(0,1))\n",
    "\n",
    "            # if we're supposed to plot the guess and zoom to include it\n",
    "            if self['plot_guess_zoom'][n]:\n",
    "                ymin, ymax = a2.get_ylim()\n",
    "                a2.set_ylim(min(ymin,min(y_guess)),\n",
    "                            max(ymax,max(y_guess)))\n",
    "\n",
    "\n",
    "            # turn back to interactive and show the plots.\n",
    "            p.ion()\n",
    "            p.draw()\n",
    "            p.show()\n",
    "\n",
    "        # for some reason, it's necessary to touch every figure, too\n",
    "        for n in range(len(xdata)-1,-1,-1): p.figure(self['first_figure']+n)\n",
    "\n",
    "        return self"
   ]
  },
  {
   "cell_type": "code",
   "execution_count": 120,
   "metadata": {
    "collapsed": false
   },
   "outputs": [
    {
     "data": {
      "text/plain": [
       "array([ 0.10000521,  0.10104693,  0.10208865,  0.10313037,  0.10417209,\n",
       "        0.10521381,  0.10625553,  0.10729726,  0.10833898,  0.1093807 ,\n",
       "        0.11042242,  0.11146414,  0.11250586,  0.11354758,  0.1145893 ,\n",
       "        0.11563102,  0.11667274,  0.11771446,  0.11875619,  0.11979791,\n",
       "        0.12083963,  0.12188135,  0.12292307,  0.12396479,  0.12500651,\n",
       "        0.12604823,  0.12708995,  0.12813167,  0.12917339,  0.13021512,\n",
       "        0.13125684,  0.13229856,  0.13334028,  0.134382  ,  0.13542372,\n",
       "        0.13646544,  0.13750716,  0.13854888,  0.1395906 ,  0.14063232,\n",
       "        0.14167405,  0.14271577,  0.14375749,  0.14479921,  0.14584093,\n",
       "        0.14688265,  0.14792437,  0.14896609,  0.15000781,  0.15104953,\n",
       "        0.15209125,  0.15313298,  0.1541747 ,  0.15521642,  0.15625814,\n",
       "        0.15729986,  0.15834158,  0.1593833 ,  0.16042502,  0.16146674,\n",
       "        0.16250846,  0.16355018,  0.16459191,  0.16563363,  0.16667535,\n",
       "        0.16771707,  0.16875879,  0.16980051,  0.17084223,  0.17188395,\n",
       "        0.17292567,  0.17396739,  0.17500912,  0.17605084,  0.17709256,\n",
       "        0.17813428,  0.179176  ,  0.18021772,  0.18125944,  0.18230116,\n",
       "        0.18334288,  0.1843846 ,  0.18542632,  0.18646805,  0.18750977,\n",
       "        0.18855149,  0.18959321,  0.19063493,  0.19167665,  0.19271837,\n",
       "        0.19376009,  0.19480181,  0.19584353,  0.19688525,  0.19792698,\n",
       "        0.1989687 ,  0.20001042,  0.20105214,  0.20209386,  0.20313558,\n",
       "        0.2041773 ,  0.20521902,  0.20626074,  0.20730246,  0.20834418,\n",
       "        0.20938591,  0.21042763,  0.21146935,  0.21251107,  0.21355279,\n",
       "        0.21459451,  0.21563623,  0.21667795,  0.21771967,  0.21876139,\n",
       "        0.21980311,  0.22084484,  0.22188656,  0.22292828,  0.22397   ,\n",
       "        0.22501172,  0.22605344,  0.22709516,  0.22813688,  0.2291786 ,\n",
       "        0.23022032,  0.23126204,  0.23230377,  0.23334549,  0.23438721,\n",
       "        0.23542893,  0.23647065,  0.23751237,  0.23855409,  0.23959581,\n",
       "        0.24063753,  0.24167925,  0.24272098,  0.2437627 ,  0.24480442,\n",
       "        0.24584614,  0.24688786,  0.24792958,  0.2489713 ,  0.25001302,\n",
       "        0.25105474,  0.25209646,  0.25313818,  0.25417991,  0.25522163,\n",
       "        0.25626335,  0.25730507,  0.25834679,  0.25938851,  0.26043023,\n",
       "        0.26147195,  0.26251367,  0.26355539,  0.26459711,  0.26563884,\n",
       "        0.26668056,  0.26772228,  0.268764  ,  0.26980572,  0.27084744,\n",
       "        0.27188916,  0.27293088,  0.2739726 ,  0.27501432,  0.27605604,\n",
       "        0.27709777,  0.27813949,  0.27918121,  0.28022293,  0.28126465,\n",
       "        0.28230637,  0.28334809,  0.28438981,  0.28543153,  0.28647325,\n",
       "        0.28751497,  0.2885567 ,  0.28959842,  0.29064014,  0.29168186,\n",
       "        0.29272358,  0.2937653 ,  0.29480702,  0.29584874,  0.29689046,\n",
       "        0.29793218,  0.2989739 ,  0.30001563,  0.30105735,  0.30209907,\n",
       "        0.30314079,  0.30418251,  0.30522423,  0.30626595,  0.30730767,\n",
       "        0.30834939,  0.30939111,  0.31043284,  0.31147456,  0.31251628,\n",
       "        0.313558  ,  0.31459972,  0.31564144,  0.31668316,  0.31772488,\n",
       "        0.3187666 ,  0.31980832,  0.32085004,  0.32189177,  0.32293349,\n",
       "        0.32397521,  0.32501693,  0.32605865,  0.32710037,  0.32814209,\n",
       "        0.32918381,  0.33022553,  0.33126725,  0.33230897,  0.3333507 ,\n",
       "        0.33439242,  0.33543414,  0.33647586,  0.33751758,  0.3385593 ,\n",
       "        0.33960102,  0.34064274,  0.34168446,  0.34272618,  0.3437679 ,\n",
       "        0.34480963,  0.34585135,  0.34689307,  0.34793479,  0.34897651,\n",
       "        0.35001823,  0.35105995,  0.35210167,  0.35314339,  0.35418511,\n",
       "        0.35522683,  0.35626856,  0.35731028,  0.358352  ,  0.35939372,\n",
       "        0.36043544,  0.36147716,  0.36251888,  0.3635606 ,  0.36460232,\n",
       "        0.36564404,  0.36668576,  0.36772749,  0.36876921,  0.36981093,\n",
       "        0.37085265,  0.37189437,  0.37293609,  0.37397781,  0.37501953,\n",
       "        0.37606125,  0.37710297,  0.3781447 ,  0.37918642,  0.38022814,\n",
       "        0.38126986,  0.38231158,  0.3833533 ,  0.38439502,  0.38543674,\n",
       "        0.38647846,  0.38752018,  0.3885619 ,  0.38960363,  0.39064535,\n",
       "        0.39168707,  0.39272879,  0.39377051,  0.39481223,  0.39585395,\n",
       "        0.39689567,  0.39793739,  0.39897911])"
      ]
     },
     "execution_count": 120,
     "metadata": {},
     "output_type": "execute_result"
    }
   ],
   "source": [
    "fitter._xdata_massaged[0][::50]"
   ]
  },
  {
   "cell_type": "code",
   "execution_count": 126,
   "metadata": {
    "collapsed": false
   },
   "outputs": [],
   "source": [
    "r = fitter.studentized_residuals(fitter.results[0])"
   ]
  },
  {
   "cell_type": "code",
   "execution_count": 128,
   "metadata": {
    "collapsed": false
   },
   "outputs": [
    {
     "data": {
      "text/plain": [
       "array([ 0.24397741, -0.89785442, -0.35202818, -2.5587654 , -1.6081288 ,\n",
       "       -0.17591127, -0.00534273,  1.05621243,  0.84207901, -0.01890898,\n",
       "       -0.26636013, -0.1126076 , -1.23046936, -0.39960349, -0.27394115,\n",
       "       -0.90485482, -0.76163968, -0.46547316,  0.39425806,  0.14230248,\n",
       "       -0.91748352, -0.74081333, -0.96959662, -0.08522896, -0.6082791 ,\n",
       "       -1.56519251,  1.18254669, -0.48530849, -0.70442859,  1.31844715,\n",
       "       -0.21413161, -0.35400864,  1.32605455, -0.16710867, -0.20976104,\n",
       "       -0.32796073, -0.40412821, -1.66169551,  1.36509714,  0.25350515,\n",
       "       -0.79770729,  1.71817908,  0.3290608 , -0.87652646,  0.32491528,\n",
       "       -0.26481258, -0.4981162 ,  0.35115972,  0.65837729, -0.29510621,\n",
       "       -0.08941715, -1.34262151,  0.54061243,  0.00594702, -1.03259175,\n",
       "       -0.22500516, -0.55305361,  0.02979085,  0.10687778,  0.01194313,\n",
       "       -0.07252138, -0.26222004, -0.31308593, -1.66296465,  0.2745516 ,\n",
       "       -0.18557724,  0.57685721, -0.56355992, -0.06598355, -0.11232377,\n",
       "       -1.30609887, -0.74796921, -0.13857489, -1.09694692,  1.5193182 ,\n",
       "        0.3194107 , -1.14490516,  0.79795084, -0.4099233 , -0.56433873,\n",
       "        0.68143367,  0.28683549,  0.81558681,  2.46410874,  0.3698447 ,\n",
       "        0.56770147,  1.67354592, -0.89123789, -0.12541852,  0.76856591,\n",
       "        0.54517198, -0.37952655,  1.53073342,  0.72769493, -0.58451463,\n",
       "       -0.46187733, -0.3958005 , -0.96653712, -0.49020157, -0.48416347,\n",
       "        0.43159981,  0.69889218,  0.28241704,  0.63697059,  0.74557194,\n",
       "       -0.89933039,  0.15955237,  0.10250604,  0.32342163,  0.03040674,\n",
       "       -0.14688019, -0.0249152 , -0.00538285,  0.08427984, -0.22727026,\n",
       "        0.22832775, -0.49154107, -0.12288444, -0.56022499, -0.04416801,\n",
       "       -1.35094984, -0.51361874,  1.69723764, -0.444568  , -0.67651362,\n",
       "        0.97253823, -0.68906846, -0.25897902,  0.97683737, -0.64039579,\n",
       "        0.05597554,  1.31850906, -0.53527094, -0.43060783,  1.43764737,\n",
       "       -0.23170078, -0.03595127,  1.89575179, -0.01877234, -0.46711533,\n",
       "        0.94778121, -0.56989495, -1.14810355, -0.10849333,  0.27867075,\n",
       "       -0.84970838, -0.35972175, -0.51264656, -0.02414318,  0.51278328,\n",
       "       -0.63136404,  0.24725281, -0.54545946, -1.2176572 ,  0.50692033,\n",
       "        0.56550381,  0.0287023 , -0.69061702, -0.01759572, -0.78584822,\n",
       "        0.54178288,  0.07047525, -0.55253017, -0.12034223, -1.54105784,\n",
       "        0.63220726, -1.36599444, -0.62769796, -0.01601051, -0.32619985,\n",
       "        1.66834432,  0.12875993, -0.65491406,  0.67063603, -0.7339034 ,\n",
       "       -0.93471657,  0.82678902, -0.39871289,  0.75391308,  2.09667924,\n",
       "       -0.28833396, -0.1021604 ,  0.90976909, -0.90401948, -0.38377957,\n",
       "        1.27555765,  1.25457259, -0.38818214,  1.32742016,  0.22924677,\n",
       "       -0.62123277,  0.17305938, -0.93669691, -0.73022948,  0.77776986,\n",
       "       -0.21991516,  0.47946893,  0.41746379, -0.44073837, -0.17946853,\n",
       "        0.48713174, -0.87797795,  0.10911416, -0.63500837, -0.57855135,\n",
       "        0.28298071,  0.4567044 , -0.19962535,  0.14413814, -0.29951452,\n",
       "       -0.79046886, -1.04520023, -0.8749438 ,  0.21293204, -0.91857021,\n",
       "        0.459785  , -0.05479887, -0.69463485,  1.96187123, -0.73252184,\n",
       "       -0.06748128,  0.02220093,  0.06299226,  0.04902143,  0.48397247,\n",
       "        0.04963728,  0.47514313,  0.99252911, -0.74069533, -0.1516521 ,\n",
       "        0.95718071, -0.01237512,  0.05210212,  0.56588858,  1.21386157,\n",
       "        0.56587949, -0.0420817 , -0.82088477, -1.33405358, -0.21431907,\n",
       "       -0.0609571 ,  0.1117016 ,  0.71254671,  0.3355647 ,  0.67387327,\n",
       "       -0.05071068, -0.95017632, -0.48440105, -0.38919199, -0.13103043,\n",
       "        0.18494787, -0.14323745, -0.48493357, -0.2128669 , -0.03302332,\n",
       "       -0.04176825, -0.72104756,  0.42404883, -0.25564263,  0.22724739,\n",
       "        0.05162419, -0.2201764 ,  0.00630585, -1.00295353, -0.14468274,\n",
       "       -0.96054328,  1.19702126, -0.44339302,  0.20736795,  1.2554432 ,\n",
       "        0.04767413,  0.26848681,  0.18616989, -0.1823755 , -1.1623126 ,\n",
       "        0.91875278, -0.67807472,  0.11665981,  2.39221553, -0.76707559,\n",
       "        0.53956273,  0.38071512,  0.89998637, -1.2967393 , -0.37182825,\n",
       "        0.11959274, -0.03000735,  1.36079345])"
      ]
     },
     "execution_count": 128,
     "metadata": {},
     "output_type": "execute_result"
    }
   ],
   "source": [
    "r[0][::50]"
   ]
  },
  {
   "cell_type": "code",
   "execution_count": null,
   "metadata": {
    "collapsed": true
   },
   "outputs": [],
   "source": []
  }
 ],
 "metadata": {
  "anaconda-cloud": {},
  "kernelspec": {
   "display_name": "Python [default]",
   "language": "python",
   "name": "python3"
  },
  "language_info": {
   "codemirror_mode": {
    "name": "ipython",
    "version": 3
   },
   "file_extension": ".py",
   "mimetype": "text/x-python",
   "name": "python",
   "nbconvert_exporter": "python",
   "pygments_lexer": "ipython3",
   "version": "3.5.2"
  }
 },
 "nbformat": 4,
 "nbformat_minor": 1
}
