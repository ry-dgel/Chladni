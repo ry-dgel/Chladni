{
 "cells": [
  {
   "cell_type": "code",
<<<<<<< HEAD
<<<<<<< HEAD
   "execution_count": null,
=======
   "execution_count": 2,
>>>>>>> d68315cbcfe591024ba40dea30b4967a087c08da
=======
   "execution_count": 9,
>>>>>>> 7cf10c69b17214a6822eccd2ded12fb018bedc81
   "metadata": {
    "collapsed": false
   },
   "outputs": [],
   "source": [
<<<<<<< HEAD
    "import matplotlib.pyplot as p\n",
    "#import spinmob as s\n",
    "import numpy as np"
=======
    "import matplotlib\n",
    "matplotlib.use('Agg')\n",
    "import matplotlib.pyplot as p\n",
    "import spinmob as s\n",
    "import numpy as np\n",
    "%matplotlib osx"
>>>>>>> d68315cbcfe591024ba40dea30b4967a087c08da
   ]
  },
  {
   "cell_type": "code",
   "execution_count": null,
   "metadata": {
    "collapsed": true
   },
   "outputs": [],
   "source": []
  },
  {
   "cell_type": "code",
<<<<<<< HEAD
<<<<<<< HEAD
   "execution_count": 1,
=======
   "execution_count": 4,
>>>>>>> d68315cbcfe591024ba40dea30b4967a087c08da
=======
   "execution_count": 10,
>>>>>>> 7cf10c69b17214a6822eccd2ded12fb018bedc81
   "metadata": {
    "collapsed": false
   },
   "outputs": [
    {
     "ename": "NameError",
     "evalue": "name 'np' is not defined",
     "output_type": "error",
     "traceback": [
      "\u001b[0;31m---------------------------------------------------------------------------\u001b[0m",
      "\u001b[0;31mNameError\u001b[0m                                 Traceback (most recent call last)",
      "\u001b[0;32m<ipython-input-1-feeeab7654d3>\u001b[0m in \u001b[0;36m<module>\u001b[0;34m()\u001b[0m\n\u001b[0;32m----> 1\u001b[0;31m \u001b[0mqdata\u001b[0m \u001b[0;34m=\u001b[0m \u001b[0mnp\u001b[0m\u001b[0;34m.\u001b[0m\u001b[0mload\u001b[0m\u001b[0;34m(\u001b[0m\u001b[0;34m'Q_factor.npy'\u001b[0m\u001b[0;34m)\u001b[0m\u001b[0;34m/\u001b[0m\u001b[0;36m95.6\u001b[0m\u001b[0;34m\u001b[0m\u001b[0m\n\u001b[0m",
      "\u001b[0;31mNameError\u001b[0m: name 'np' is not defined"
     ]
    }
   ],
   "source": [
    "qdata = np.load('data/Q_factor.npy')/95.6"
   ]
  },
  {
   "cell_type": "code",
   "execution_count": 11,
   "metadata": {
    "collapsed": false
   },
   "outputs": [
    {
     "data": {
      "text/plain": [
       "9.7907949790794984"
      ]
     },
     "execution_count": 11,
     "metadata": {},
     "output_type": "execute_result"
    }
   ],
   "source": [
    "qdata[5]"
   ]
  },
  {
   "cell_type": "code",
   "execution_count": 12,
   "metadata": {
    "collapsed": false
   },
   "outputs": [],
   "source": [
    "time = np.linspace(0,len(qdata)/48000,len(qdata))"
   ]
  },
  {
   "cell_type": "code",
   "execution_count": 13,
   "metadata": {
    "collapsed": false,
    "scrolled": true
   },
   "outputs": [
    {
     "data": {
      "text/plain": [
       "[<matplotlib.lines.Line2D at 0x11d4fb9e8>]"
      ]
     },
     "execution_count": 13,
     "metadata": {},
     "output_type": "execute_result"
    }
   ],
   "source": [
    "p.plot(time,qdata)"
   ]
  },
  {
   "cell_type": "code",
   "execution_count": 14,
   "metadata": {
    "collapsed": false,
    "scrolled": true
   },
   "outputs": [
    {
     "data": {
      "text/plain": [
       "\n",
       "SETTINGS\n",
       "  autoplot        True\n",
       "  coarsen         [1]\n",
       "  first_figure    0\n",
       "  fpoints         [1000]\n",
       "  plot_bg         [True]\n",
       "  plot_ey         [True]\n",
       "  plot_fit        [True]\n",
       "  plot_guess      [False]\n",
       "  plot_guess_zoom [False]\n",
       "  scale_eydata    [1.0]\n",
       "  silent          [False]\n",
       "  style_bg        [{'color': 'k', 'marker': '', 'ls': '-'}]\n",
       "  style_data      [{'color': 'b', 'marker': '+', 'ls': ''}]\n",
       "  style_fit       [{'color': 'r', 'marker': '', 'ls': '-'}]\n",
       "  style_guess     [{'color': '0.25', 'marker': '', 'ls': '-'}]\n",
       "  subtract_bg     [False]\n",
       "  xlabel          ['Time (s)']\n",
       "  xmax            [0.40000000000000002]\n",
       "  xmin            [0.1]\n",
       "  xscale          ['linear']\n",
       "  ylabel          ['Sensor Output (V)']\n",
       "  ymax            [11.548117154811717]\n",
       "  ymin            [9.7698744769874484]\n",
       "  yscale          ['linear']\n",
       "\n",
       "CONSTANTS\n",
       "\n",
       "GUESS (reduced chi squared = [ 2660.])\n",
       "  a1         = 2.0\n",
       "  a2         = 0.5\n",
       "  g1         = 20.0\n",
       "  g2         = 20.0\n",
       "  w1         = 666.0\n",
       "  w2         = 670.0\n",
       "  p1         = 1.9\n",
       "  p2         = 0.0\n",
       "  o          = 10.25\n",
       "\n",
       "FIT RESULTS (reduced chi squared = [ 0.526])\n",
       "  a1         = -0.6841 +/- 0.0028\n",
       "  a2         = 0.016 +/- 0.0012\n",
       "  g1         = 19.608 +/- 0.049\n",
       "  g2         = 10.85 +/- 0.74\n",
       "  w1         = 665.344 +/- 0.025\n",
       "  w2         = 607.13 +/- 0.37\n",
       "  p1         = 6.024 +/- 0.0041\n",
       "  p2         = 11.872 +/- 0.074\n",
       "  o          = 10.723918 +/- 8.3e-05"
      ]
     },
     "execution_count": 14,
     "metadata": {},
     "output_type": "execute_result"
    }
   ],
   "source": [
    "fitter = s.data.fitter(f='exp(-1*g1*x/2)*a1 * cos(x*w1 + p1)+ exp(-1*g2*x/2)* a2 * cos(x*w2 + p2) + o',\n",
    "                       p='a1=2, a2 = 0.5, g1=20, g2=20, w1=666, w2 = 670, p1=1.9, p2 = 0, o=10.25')\n",
    "#fitter = s.data.fitter(f='exp(-1*x/t1)*a1 * cos(x*w1 + p1) + o',\n",
    "#                      p='a1=2, t1=0.1, w1=666, p1=1.9, o=10.25')\n",
    "fitter.set_data(xdata=time, ydata=qdata, eydata=0.01)\n",
    "fitter(xmin = 0.1, coarsen = 0, plot_guess=False)\n",
    "fitter.fit()\n",
    "fitter(xlabel = 'Time (s)', ylabel = 'Sensor Output (V)', plot_ey = True)"
   ]
  },
  {
   "cell_type": "code",
   "execution_count": 22,
   "metadata": {
    "collapsed": false
   },
   "outputs": [
    {
     "data": {
      "text/plain": [
       "\n",
       "SETTINGS\n",
       "  autoplot        True\n",
       "  coarsen         [1]\n",
       "  first_figure    0\n",
       "  fpoints         [1000]\n",
       "  plot_bg         [True]\n",
       "  plot_ey         [True]\n",
       "  plot_fit        [True]\n",
       "  plot_guess      [False]\n",
       "  plot_guess_zoom [False]\n",
       "  scale_eydata    [1.0]\n",
       "  silent          [False]\n",
       "  style_bg        [{'color': 'k', 'marker': '', 'ls': '-'}]\n",
       "  style_data      [{'color': 'b', 'marker': '+', 'ls': ''}]\n",
       "  style_fit       [{'color': 'r', 'marker': '', 'ls': '-'}]\n",
       "  style_guess     [{'color': '0.25', 'marker': '', 'ls': '-'}]\n",
       "  subtract_bg     [False]\n",
       "  xlabel          ['Time (s)']\n",
       "  xmax            [0.40000000000000002]\n",
       "  xmin            [0.1]\n",
       "  xscale          ['linear']\n",
       "  ylabel          ['Sensor Output (V)']\n",
       "  ymax            [11.548117154811717]\n",
       "  ymin            [9.7698744769874484]\n",
       "  yscale          ['linear']\n",
       "\n",
       "CONSTANTS\n",
       "\n",
       "GUESS (reduced chi squared = [ 2660.])\n",
       "  a1         = 2.0\n",
       "  a2         = 0.5\n",
       "  g1         = 20.0\n",
       "  g2         = 20.0\n",
       "  w1         = 666.0\n",
       "  w2         = 670.0\n",
       "  p1         = 1.9\n",
       "  p2         = 0.0\n",
       "  o          = 10.25\n",
       "\n",
       "FIT RESULTS (reduced chi squared = [ 0.526])\n",
       "  a1         = -0.6841 +/- 0.0028\n",
       "  a2         = 0.016 +/- 0.0012\n",
       "  g1         = 19.608 +/- 0.049\n",
       "  g2         = 10.85 +/- 0.74\n",
       "  w1         = 665.344 +/- 0.025\n",
       "  w2         = 607.13 +/- 0.37\n",
       "  p1         = 6.024 +/- 0.0041\n",
       "  p2         = 11.872 +/- 0.074\n",
       "  o          = 10.723918 +/- 8.3e-05"
      ]
     },
     "execution_count": 22,
     "metadata": {},
     "output_type": "execute_result"
    }
   ],
   "source": [
    "plot(fitter)"
   ]
  },
  {
   "cell_type": "code",
   "execution_count": 16,
   "metadata": {
    "collapsed": true
   },
   "outputs": [],
   "source": [
    "fig.show()"
   ]
  },
  {
   "cell_type": "code",
   "execution_count": 17,
   "metadata": {
    "collapsed": false
   },
   "outputs": [
    {
     "ename": "KeyError",
     "evalue": "<matplotlib.axes._subplots.AxesSubplot object at 0x11ac58e80>",
     "output_type": "error",
     "traceback": [
      "\u001b[0;31m---------------------------------------------------------------------------\u001b[0m",
      "\u001b[0;31mKeyError\u001b[0m                                  Traceback (most recent call last)",
      "\u001b[0;32m<ipython-input-17-9ffde608ef14>\u001b[0m in \u001b[0;36m<module>\u001b[0;34m()\u001b[0m\n\u001b[1;32m      1\u001b[0m \u001b[0ma\u001b[0m \u001b[0;34m=\u001b[0m \u001b[0mfig\u001b[0m\u001b[0;34m.\u001b[0m\u001b[0maxes\u001b[0m\u001b[0;34m[\u001b[0m\u001b[0;36m0\u001b[0m\u001b[0;34m]\u001b[0m\u001b[0;34m\u001b[0m\u001b[0m\n\u001b[0;32m----> 2\u001b[0;31m \u001b[0mp\u001b[0m\u001b[0;34m.\u001b[0m\u001b[0maxes\u001b[0m\u001b[0;34m(\u001b[0m\u001b[0ma\u001b[0m\u001b[0;34m)\u001b[0m\u001b[0;34m\u001b[0m\u001b[0m\n\u001b[0m\u001b[1;32m      3\u001b[0m \u001b[0ma\u001b[0m\u001b[0;34m.\u001b[0m\u001b[0mset_title\u001b[0m\u001b[0;34m(\u001b[0m\u001b[0;34m\"\"\u001b[0m\u001b[0;34m)\u001b[0m\u001b[0;34m\u001b[0m\u001b[0m\n",
      "\u001b[0;32m//anaconda/lib/python3.5/site-packages/matplotlib/pyplot.py\u001b[0m in \u001b[0;36maxes\u001b[0;34m(*args, **kwargs)\u001b[0m\n\u001b[1;32m    879\u001b[0m \u001b[0;34m\u001b[0m\u001b[0m\n\u001b[1;32m    880\u001b[0m     \u001b[0;32mif\u001b[0m \u001b[0misinstance\u001b[0m\u001b[0;34m(\u001b[0m\u001b[0marg\u001b[0m\u001b[0;34m,\u001b[0m \u001b[0mAxes\u001b[0m\u001b[0;34m)\u001b[0m\u001b[0;34m:\u001b[0m\u001b[0;34m\u001b[0m\u001b[0m\n\u001b[0;32m--> 881\u001b[0;31m         \u001b[0ma\u001b[0m \u001b[0;34m=\u001b[0m \u001b[0mgcf\u001b[0m\u001b[0;34m(\u001b[0m\u001b[0;34m)\u001b[0m\u001b[0;34m.\u001b[0m\u001b[0msca\u001b[0m\u001b[0;34m(\u001b[0m\u001b[0marg\u001b[0m\u001b[0;34m)\u001b[0m\u001b[0;34m\u001b[0m\u001b[0m\n\u001b[0m\u001b[1;32m    882\u001b[0m     \u001b[0;32melse\u001b[0m\u001b[0;34m:\u001b[0m\u001b[0;34m\u001b[0m\u001b[0m\n\u001b[1;32m    883\u001b[0m         \u001b[0mrect\u001b[0m \u001b[0;34m=\u001b[0m \u001b[0marg\u001b[0m\u001b[0;34m\u001b[0m\u001b[0m\n",
      "\u001b[0;32m//anaconda/lib/python3.5/site-packages/matplotlib/figure.py\u001b[0m in \u001b[0;36msca\u001b[0;34m(self, a)\u001b[0m\n\u001b[1;32m   1361\u001b[0m     \u001b[0;32mdef\u001b[0m \u001b[0msca\u001b[0m\u001b[0;34m(\u001b[0m\u001b[0mself\u001b[0m\u001b[0;34m,\u001b[0m \u001b[0ma\u001b[0m\u001b[0;34m)\u001b[0m\u001b[0;34m:\u001b[0m\u001b[0;34m\u001b[0m\u001b[0m\n\u001b[1;32m   1362\u001b[0m         \u001b[0;34m'Set the current axes to be a and return a'\u001b[0m\u001b[0;34m\u001b[0m\u001b[0m\n\u001b[0;32m-> 1363\u001b[0;31m         \u001b[0mself\u001b[0m\u001b[0;34m.\u001b[0m\u001b[0m_axstack\u001b[0m\u001b[0;34m.\u001b[0m\u001b[0mbubble\u001b[0m\u001b[0;34m(\u001b[0m\u001b[0ma\u001b[0m\u001b[0;34m)\u001b[0m\u001b[0;34m\u001b[0m\u001b[0m\n\u001b[0m\u001b[1;32m   1364\u001b[0m         \u001b[0;32mfor\u001b[0m \u001b[0mfunc\u001b[0m \u001b[0;32min\u001b[0m \u001b[0mself\u001b[0m\u001b[0;34m.\u001b[0m\u001b[0m_axobservers\u001b[0m\u001b[0;34m:\u001b[0m\u001b[0;34m\u001b[0m\u001b[0m\n\u001b[1;32m   1365\u001b[0m             \u001b[0mfunc\u001b[0m\u001b[0;34m(\u001b[0m\u001b[0mself\u001b[0m\u001b[0;34m)\u001b[0m\u001b[0;34m\u001b[0m\u001b[0m\n",
      "\u001b[0;32m//anaconda/lib/python3.5/site-packages/matplotlib/figure.py\u001b[0m in \u001b[0;36mbubble\u001b[0;34m(self, a)\u001b[0m\n\u001b[1;32m    107\u001b[0m         \u001b[0mstack\u001b[0m\u001b[0;34m,\u001b[0m \u001b[0mto\u001b[0m \u001b[0mthe\u001b[0m \u001b[0mtop\u001b[0m\u001b[0;34m.\u001b[0m\u001b[0;34m\u001b[0m\u001b[0m\n\u001b[1;32m    108\u001b[0m         \"\"\"\n\u001b[0;32m--> 109\u001b[0;31m         \u001b[0;32mreturn\u001b[0m \u001b[0mStack\u001b[0m\u001b[0;34m.\u001b[0m\u001b[0mbubble\u001b[0m\u001b[0;34m(\u001b[0m\u001b[0mself\u001b[0m\u001b[0;34m,\u001b[0m \u001b[0mself\u001b[0m\u001b[0;34m.\u001b[0m\u001b[0m_entry_from_axes\u001b[0m\u001b[0;34m(\u001b[0m\u001b[0ma\u001b[0m\u001b[0;34m)\u001b[0m\u001b[0;34m)\u001b[0m\u001b[0;34m\u001b[0m\u001b[0m\n\u001b[0m\u001b[1;32m    110\u001b[0m \u001b[0;34m\u001b[0m\u001b[0m\n\u001b[1;32m    111\u001b[0m     \u001b[0;32mdef\u001b[0m \u001b[0madd\u001b[0m\u001b[0;34m(\u001b[0m\u001b[0mself\u001b[0m\u001b[0;34m,\u001b[0m \u001b[0mkey\u001b[0m\u001b[0;34m,\u001b[0m \u001b[0ma\u001b[0m\u001b[0;34m)\u001b[0m\u001b[0;34m:\u001b[0m\u001b[0;34m\u001b[0m\u001b[0m\n",
      "\u001b[0;32m//anaconda/lib/python3.5/site-packages/matplotlib/figure.py\u001b[0m in \u001b[0;36m_entry_from_axes\u001b[0;34m(self, e)\u001b[0m\n\u001b[1;32m     95\u001b[0m \u001b[0;34m\u001b[0m\u001b[0m\n\u001b[1;32m     96\u001b[0m     \u001b[0;32mdef\u001b[0m \u001b[0m_entry_from_axes\u001b[0m\u001b[0;34m(\u001b[0m\u001b[0mself\u001b[0m\u001b[0;34m,\u001b[0m \u001b[0me\u001b[0m\u001b[0;34m)\u001b[0m\u001b[0;34m:\u001b[0m\u001b[0;34m\u001b[0m\u001b[0m\n\u001b[0;32m---> 97\u001b[0;31m         \u001b[0mind\u001b[0m\u001b[0;34m,\u001b[0m \u001b[0mk\u001b[0m \u001b[0;34m=\u001b[0m \u001b[0mdict\u001b[0m\u001b[0;34m(\u001b[0m\u001b[0;34m[\u001b[0m\u001b[0;34m(\u001b[0m\u001b[0ma\u001b[0m\u001b[0;34m,\u001b[0m \u001b[0;34m(\u001b[0m\u001b[0mind\u001b[0m\u001b[0;34m,\u001b[0m \u001b[0mk\u001b[0m\u001b[0;34m)\u001b[0m\u001b[0;34m)\u001b[0m \u001b[0;32mfor\u001b[0m \u001b[0;34m(\u001b[0m\u001b[0mk\u001b[0m\u001b[0;34m,\u001b[0m \u001b[0;34m(\u001b[0m\u001b[0mind\u001b[0m\u001b[0;34m,\u001b[0m \u001b[0ma\u001b[0m\u001b[0;34m)\u001b[0m\u001b[0;34m)\u001b[0m \u001b[0;32min\u001b[0m \u001b[0mself\u001b[0m\u001b[0;34m.\u001b[0m\u001b[0m_elements\u001b[0m\u001b[0;34m]\u001b[0m\u001b[0;34m)\u001b[0m\u001b[0;34m[\u001b[0m\u001b[0me\u001b[0m\u001b[0;34m]\u001b[0m\u001b[0;34m\u001b[0m\u001b[0m\n\u001b[0m\u001b[1;32m     98\u001b[0m         \u001b[0;32mreturn\u001b[0m \u001b[0;34m(\u001b[0m\u001b[0mk\u001b[0m\u001b[0;34m,\u001b[0m \u001b[0;34m(\u001b[0m\u001b[0mind\u001b[0m\u001b[0;34m,\u001b[0m \u001b[0me\u001b[0m\u001b[0;34m)\u001b[0m\u001b[0;34m)\u001b[0m\u001b[0;34m\u001b[0m\u001b[0m\n\u001b[1;32m     99\u001b[0m \u001b[0;34m\u001b[0m\u001b[0m\n",
      "\u001b[0;31mKeyError\u001b[0m: <matplotlib.axes._subplots.AxesSubplot object at 0x11ac58e80>"
     ]
    }
   ],
   "source": [
    "a = fig.axes[0]\n",
    "p.axes(a)\n",
    "a.set_title(\"\")"
   ]
  },
  {
   "cell_type": "code",
   "execution_count": 21,
   "metadata": {
    "collapsed": true
   },
   "outputs": [],
   "source": [
    "import textwrap as _textwrap\n",
    "def plot(self, **kwargs):\n",
    "        \"\"\"\n",
    "        This will plot the data (with error) for inspection.\n",
    "        kwargs will update the settings\n",
    "        \"\"\"\n",
    "        if self._set_xdata is None or self._set_ydata is None:\n",
    "            return self._error(\"No data. Please use set_data() prior to plotting.\")\n",
    "\n",
    "        # get the data\n",
    "        xdata, ydata, eydata = self.get_data()\n",
    "\n",
    "        # update settings\n",
    "        for k in kwargs: self[k] = kwargs[k]\n",
    "\n",
    "        # update the massaged data\n",
    "        self._massage_data()\n",
    "\n",
    "\n",
    "        # get the residuals\n",
    "        r = None\n",
    "        if not self.results is None: r = self.studentized_residuals(self.results[0])\n",
    "\n",
    "        # otherwise get the guess residuals\n",
    "        else:                        r = self.studentized_residuals(self._pguess)\n",
    "\n",
    "        # make a new plot for each data set\n",
    "        for n in range(len(xdata)):\n",
    "\n",
    "            # get the next figure\n",
    "            fig = p.figure(self['first_figure']+n)\n",
    "\n",
    "            # turn off interactive mode\n",
    "            p.ioff()\n",
    "\n",
    "            fig.clear()\n",
    "\n",
    "            # set up two axes. One for data and one for residuals.\n",
    "            a1 = p.subplot(211)            # Residuals\n",
    "            a2 = p.subplot(212, sharex=a1) # Data\n",
    "            a1.set_position([0.15, 0.72, 0.75, 0.15])\n",
    "            a2.set_position([0.15, 0.10, 0.75, 0.60])\n",
    "\n",
    "            # set the scales\n",
    "            a1.set_xscale(self['xscale'][n])\n",
    "            a2.set_xscale(self['xscale'][n])\n",
    "            a2.set_yscale(self['yscale'][n])\n",
    "\n",
    "            x = self._get_xdata_for_plotting(n=n)\n",
    "\n",
    "            # get the thing to subtract from ydata\n",
    "            if self['subtract_bg'][n] and not self.bg[n] is None:\n",
    "\n",
    "                # if we have a fit, use that.\n",
    "                if self.results:\n",
    "                    dy_data = self._evaluate_bg(n, self._xdata_massaged[n], self.results[0])\n",
    "                    dy_func = self._evaluate_bg(n, x,                       self.results[0])\n",
    "\n",
    "                # otherwise, use the pguess background\n",
    "                else:\n",
    "                    dy_data = self._evaluate_bg(n, self._xdata_massaged[n], self._pguess)\n",
    "                    dy_func = self._evaluate_bg(n, x,                       self._pguess)\n",
    "            else:\n",
    "                dy_data = 0*self._xdata_massaged[n]\n",
    "                dy_func = 0*x\n",
    "\n",
    "\n",
    "            # add the data to the plot\n",
    "            if self['plot_ey'][n]:\n",
    "                a2.errorbar(self._xdata_massaged[n],\n",
    "                            self._ydata_massaged[n]-dy_data,\n",
    "                            self._eydata_massaged[n],\n",
    "                            **self['style_data'][n])\n",
    "            else:\n",
    "                a2.plot(    self._xdata_massaged[n],\n",
    "                            self._ydata_massaged[n]-dy_data,\n",
    "                            **self['style_data'][n])\n",
    "\n",
    "            # set the plot range according to just the data\n",
    "            s.tweaks.auto_zoom(axes=a2, draw=False)\n",
    "            a2.set_autoscale_on(False)\n",
    "\n",
    "            # add the pguess curves\n",
    "            y_guess = self._evaluate_f(n,x,self._pguess)-dy_func\n",
    "            if self['plot_guess'][n]:\n",
    "\n",
    "                # plot the pguess background curve\n",
    "                if self['plot_bg'][n] and self.bg[n] is not None:\n",
    "                    a2.plot(x, self._evaluate_bg(n,x,self._pguess)-dy_func, **self['style_guess'][n])\n",
    "\n",
    "                # plot the pguess main curve\n",
    "                a2.plot(x, y_guess, **self['style_guess'][n])\n",
    "\n",
    "            # add the fit curves (if we have a fit)\n",
    "            if self['plot_fit'] and self.results:\n",
    "\n",
    "                # plot the background curve\n",
    "                if self['plot_bg'][n] and self.bg[n] is not None:\n",
    "                    a2.plot(x, self._evaluate_bg(n,x,self.results[0])-dy_func, **self['style_fit'][n])\n",
    "\n",
    "                # plot the pfit main curve\n",
    "                a2.plot(x, self._evaluate_f(n,x,self.results[0])-dy_func, **self['style_fit'][n])\n",
    "\n",
    "            a2.set_autoscale_on(True)\n",
    "\n",
    "            # plot the residuals\n",
    "            if self.results is not None:\n",
    "                a1.errorbar(self._xdata_massaged[n][::50], r[n][::50], np.ones(len(r[n][::50])),             **self['style_data'][n])\n",
    "                a1.plot([min(self._xdata_massaged[n][::50]),max(self._xdata_massaged[n][::50])],[0,0], **self['style_fit'][n])\n",
    "                s.tweaks.auto_zoom(axes=a1, draw=False)\n",
    "\n",
    "            # otherwise plot the guess residuals\n",
    "            elif self['plot_guess'][n]:\n",
    "                a1.errorbar(self._xdata_massaged[n], r[n], np.ones(len(r[n])),             **self['style_data'][n])\n",
    "                a1.plot([min(self._xdata_massaged[n]),max(self._xdata_massaged[n])],[0,0], **self['style_guess'][n])\n",
    "                s.tweaks.auto_zoom(axes=a1, draw=False)\n",
    "\n",
    "                \n",
    "            # Tidy up\n",
    "            yticklabels = a1.get_yticklabels()\n",
    "            for m in range(2,len(yticklabels)-2): yticklabels[m].set_visible(False)\n",
    "            for m in a1.get_xticklabels(): m.set_visible(False)\n",
    "            \n",
    "            # Add labels to the axes\n",
    "            if self['xlabel'][n] is None: p.xlabel('xdata['+str(n)+']')\n",
    "            else:                         p.xlabel(self['xlabel'][n])\n",
    "            if self['ylabel'][n] is None:\n",
    "                ylabel='ydata['+str(n)+']'\n",
    "                if self['subtract_bg'][n] and self.bg[n] is not None:\n",
    "                    ylabel=ylabel+' - bg['+str(n)+']'\n",
    "                p.ylabel(ylabel)\n",
    "            else:                         p.ylabel(self['ylabel'][n])\n",
    "            a1.set_ylabel('Studentized\\nResiduals')\n",
    "\n",
    "            # Assemble the title\n",
    "            wrap = 80\n",
    "            indent = '      '\n",
    "            t = _textwrap.fill('Function ('+str(n)+'/'+str(len(ydata)-1)+'): y = '+self._fnames[n], wrap, subsequent_indent=indent)\n",
    "\n",
    "            if len(self._cnames):\n",
    "                t1 = \"Constants: \"\n",
    "                for i in range(len(self._cnames)):\n",
    "                    t1 = t1 + self._cnames[i] + \"={:G}, \".format(self._constants[i])\n",
    "                t = t + '\\n' + _textwrap.fill(t1, wrap, subsequent_indent=indent)\n",
    "\n",
    "            if self.results and not self.results[1] is None:\n",
    "                t1 = \"Fit: \"\n",
    "                for i in range(len(self._pnames)):\n",
    "                    t1 = t1 + self._pnames[i] + \"={:s}, \".format(self._format_value_error(self.results[0][i], np.sqrt(self.results[1][i][i]), '$\\pm$'))\n",
    "                t = t + '\\n' + _textwrap.fill(t1, wrap, subsequent_indent=indent)\n",
    "\n",
    "            elif self.results:\n",
    "                t1 = \"Fit did not converge: \"\n",
    "                for i in range(len(self._pnames)):\n",
    "                    t1 = t1 + self._pnames[i] + \"={:8G}$, \"\n",
    "                t = t + '\\n' + _textwrap.fill(t1, wrap, subsequent_indent=indent)\n",
    "\n",
    "            a1.set_title(t, fontsize=10, ha='left', position=(0,1))\n",
    "\n",
    "            # if we're supposed to plot the guess and zoom to include it\n",
    "            if self['plot_guess_zoom'][n]:\n",
    "                ymin, ymax = a2.get_ylim()\n",
    "                a2.set_ylim(min(ymin,min(y_guess)),\n",
    "                            max(ymax,max(y_guess)))\n",
    "\n",
    "\n",
    "            # turn back to interactive and show the plots.\n",
    "            p.ion()\n",
    "            p.draw()\n",
    "            p.show()\n",
    "\n",
    "        # for some reason, it's necessary to touch every figure, too\n",
    "        for n in range(len(xdata)-1,-1,-1): p.figure(self['first_figure']+n)\n",
    "\n",
    "        return self"
   ]
  },
  {
   "cell_type": "code",
   "execution_count": 25,
   "metadata": {
    "collapsed": false
   },
   "outputs": [],
   "source": [
    "fig = p.gcf()\n",
    "ax = fig.axes[0]\n",
    "ax.set_title('')\n",
    "p.savefig('Q_factore.pdf',dpi=70,bbox_inches='tight')"
   ]
  },
  {
   "cell_type": "code",
   "execution_count": null,
   "metadata": {
    "collapsed": false
   },
   "outputs": [],
   "source": [
    "r = fitter.studentized_residuals(fitter.results[0])"
   ]
  },
  {
   "cell_type": "code",
   "execution_count": null,
   "metadata": {
    "collapsed": false
   },
   "outputs": [],
   "source": [
    "r[0][::50]"
   ]
  },
  {
   "cell_type": "code",
   "execution_count": null,
   "metadata": {
    "collapsed": true
   },
   "outputs": [],
   "source": []
  }
 ],
 "metadata": {
  "anaconda-cloud": {},
  "kernelspec": {
   "display_name": "Python [default]",
   "language": "python",
   "name": "python3"
  },
  "language_info": {
   "codemirror_mode": {
    "name": "ipython",
    "version": 3
   },
   "file_extension": ".py",
   "mimetype": "text/x-python",
   "name": "python",
   "nbconvert_exporter": "python",
   "pygments_lexer": "ipython3",
   "version": "3.5.2"
  }
 },
 "nbformat": 4,
 "nbformat_minor": 1
}
